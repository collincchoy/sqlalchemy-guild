{
 "cells": [
  {
   "cell_type": "markdown",
   "metadata": {},
   "source": [
    "# SQLAlchemy w/ Textual SQL\n",
    "\n",
    "SQLAlchemy at it's lowest level is just a wrapper around the DB api - a standard for database drivers in python like psycopg2 - a commonly used driver for PostgreSQL.\n",
    "\n",
    "SQLAlchemy allows you to drop down into Textual sql to transfer over the wire when you'd like and it provides a handy `text` construct to do so in an injection-safe way. You can execute direct strings as well, but the `text` construct provides an easy api to use bound parameters to avoid sql injection attacks through raw string interpolations.\n",
    "\n",
    "For more see: https://docs.sqlalchemy.org/en/14/core/tutorial.html#using-textual-sql"
   ]
  },
  {
   "cell_type": "code",
   "execution_count": 2,
   "metadata": {},
   "outputs": [],
   "source": [
    "from sa2_swing.config import SQLALCHEMY_URI\n",
    "\n",
    "from sqlalchemy import create_engine\n",
    "\n",
    "engine = create_engine(SQLALCHEMY_URI)"
   ]
  },
  {
   "cell_type": "markdown",
   "metadata": {},
   "source": [
    "## Create some tables"
   ]
  },
  {
   "cell_type": "code",
   "execution_count": 3,
   "metadata": {},
   "outputs": [],
   "source": [
    "from sqlalchemy import text\n",
    "\n",
    "with engine.connect() as conn:\n",
    "    conn.execute(\"\"\"\n",
    "    CREATE TABLE iF NOT EXISTS \"user\" (\n",
    "        id serial primary key,\n",
    "        first_name varchar(30) NOT NULL,\n",
    "        last_name varchar(100)\n",
    "    );\n",
    "    \"\"\")\n"
   ]
  },
  {
   "cell_type": "markdown",
   "metadata": {},
   "source": [
    "## Insert some data"
   ]
  },
  {
   "cell_type": "code",
   "execution_count": 3,
   "metadata": {},
   "outputs": [],
   "source": [
    "from sqlalchemy import text\n",
    "\n",
    "with engine.connect() as conn:\n",
    "\tconn.execute('TRUNCATE TABLE \"user\";')\n",
    "\tconn.execute(\n",
    "\t\ttext(\"\"\"INSERT INTO \"user\" (first_name, last_name) VALUES (:first_name, :last_name)\"\"\"),\n",
    "\t\t[\n",
    "\t\t\t{\"first_name\": \"Collin\", \"last_name\": \"Choy\"},\n",
    "\t\t\t{\"first_name\": \"Jeff\", \"last_name\": \"Bridges\"},\n",
    "\t\t\t{\"first_name\": \"Tim\", \"last_name\": None}\n",
    "\t\t]\n",
    "\t)"
   ]
  },
  {
   "cell_type": "markdown",
   "metadata": {},
   "source": [
    "## Query some data"
   ]
  },
  {
   "cell_type": "code",
   "execution_count": 4,
   "metadata": {},
   "outputs": [
    {
     "data": {
      "text/plain": [
       "[(7, 'Collin', 'Choy'), (9, 'Tim', 'None'), (8, 'Jeff', 'Goldblum')]"
      ]
     },
     "execution_count": 4,
     "metadata": {},
     "output_type": "execute_result"
    }
   ],
   "source": [
    "def select_all_users():\n",
    "\twith engine.connect() as conn:\n",
    "\t\tresult = conn.execute(text('SELECT * FROM \"user\"'))\n",
    "\t\treturn result.all()\n",
    "\n",
    "select_all_users()"
   ]
  },
  {
   "cell_type": "code",
   "execution_count": 6,
   "metadata": {},
   "outputs": [
    {
     "data": {
      "text/plain": [
       "[('Collin',), ('Jeff',)]"
      ]
     },
     "execution_count": 6,
     "metadata": {},
     "output_type": "execute_result"
    }
   ],
   "source": [
    "stmt = text('SELECT first_name FROM \"user\" WHERE \"user\".first_name BETWEEN :start AND :end')\n",
    "stmt = stmt.bindparams(start=\"A\", end=\"M\")\n",
    "\n",
    "with engine.connect() as conn:\n",
    "\tresult = conn.execute(stmt).fetchall()\n",
    "\n",
    "result"
   ]
  },
  {
   "cell_type": "markdown",
   "metadata": {},
   "source": [
    "With type coercion"
   ]
  },
  {
   "cell_type": "code",
   "execution_count": 7,
   "metadata": {},
   "outputs": [
    {
     "data": {
      "text/plain": [
       "[(7, 'Collin', 'Choy')]"
      ]
     },
     "execution_count": 7,
     "metadata": {},
     "output_type": "execute_result"
    }
   ],
   "source": [
    "from sqlalchemy import bindparam, String\n",
    "\n",
    "stmt = text('SELECT * FROM \"user\" WHERE \"user\".first_name BETWEEN :start AND :end')\n",
    "stmt = stmt.bindparams(bindparam(\"start\", type_=String), bindparam(\"end\", type_=String))\n",
    "with engine.connect() as conn:\n",
    "\tresult = conn.execute(stmt, {\"start\": \"A\", \"end\": \"D\"}).all()\n",
    "result"
   ]
  },
  {
   "cell_type": "markdown",
   "metadata": {},
   "source": [
    "## Update some data"
   ]
  },
  {
   "cell_type": "code",
   "execution_count": 8,
   "metadata": {},
   "outputs": [
    {
     "data": {
      "text/plain": [
       "[(7, 'Collin', 'Choy'), (9, 'Tim', 'None'), (8, 'Jeff', 'Goldblum')]"
      ]
     },
     "execution_count": 8,
     "metadata": {},
     "output_type": "execute_result"
    }
   ],
   "source": [
    "stmt = text(\"\"\"\n",
    "\tUPDATE \"user\"\n",
    "\tSET last_name='Goldblum'\n",
    "\tWHERE first_name='Jeff'\n",
    "\"\"\")\n",
    "with engine.connect() as conn:\n",
    "\tresult = conn.execute(stmt)\n",
    "\n",
    "with engine.connect() as conn:\n",
    "\tresult = conn.execute(text('select * from \"user\"')).all()\n",
    "result"
   ]
  },
  {
   "cell_type": "markdown",
   "metadata": {},
   "source": [
    "## Delete some data"
   ]
  },
  {
   "cell_type": "code",
   "execution_count": 9,
   "metadata": {},
   "outputs": [
    {
     "data": {
      "text/plain": [
       "[(7, 'Collin', 'Choy'), (8, 'Jeff', 'Goldblum')]"
      ]
     },
     "execution_count": 9,
     "metadata": {},
     "output_type": "execute_result"
    }
   ],
   "source": [
    "with engine.connect() as conn:\n",
    "\tconn.execute(text('DELETE from \"user\" where first_name = :first_name'), {\"first_name\": \"Tim\"})\n",
    "\n",
    "select_all_users()"
   ]
  },
  {
   "cell_type": "markdown",
   "metadata": {},
   "source": [
    "## Cleanup: Drop tables"
   ]
  },
  {
   "cell_type": "code",
   "execution_count": 10,
   "metadata": {},
   "outputs": [],
   "source": [
    "with engine.connect() as conn:\n",
    "\tconn.execute(text(\"\"\"DROP TABLE \"user\";\"\"\"))"
   ]
  },
  {
   "cell_type": "code",
   "execution_count": null,
   "metadata": {},
   "outputs": [],
   "source": []
  }
 ],
 "metadata": {
  "interpreter": {
   "hash": "b788e793b78899db959d856033b1abc5ad30cba9f71b1dd95b8f11ded2f03ede"
  },
  "kernelspec": {
   "display_name": "Python 3.7.8 64-bit ('venv': venv)",
   "language": "python",
   "name": "python3"
  },
  "language_info": {
   "codemirror_mode": {
    "name": "ipython",
    "version": 3
   },
   "file_extension": ".py",
   "mimetype": "text/x-python",
   "name": "python",
   "nbconvert_exporter": "python",
   "pygments_lexer": "ipython3",
   "version": "3.10.2"
  },
  "orig_nbformat": 4
 },
 "nbformat": 4,
 "nbformat_minor": 2
}
