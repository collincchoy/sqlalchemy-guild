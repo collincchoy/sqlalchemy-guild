{
 "cells": [
  {
   "cell_type": "markdown",
   "metadata": {},
   "source": [
    "# SQLAlchemy w/ ORM\n",
    "\n",
    "An Object Relational Mapper is a pattern for mapping domain models(objects usually in the form of classes) to tables in a relational database. \n",
    "\n",
    "There are 2 common patterns for implementing an ORM\n",
    "1. Active Record (Ruby on Rails, Django, etc.) - Here you typically pull some record out of the database (i.e. `user = User.objects.get()`), do something to that record, and then put the record back (i.e. `user.save()`). Here, the thing to note is that the persistance is tightly coupled to the domain model which lends itself to a very convenient API.\n",
    "\n",
    "2. Data Mapper (SQLAlchemy and others) - Here you have some separate that that _maps_ a domain model over to a table and that separate thing manages the persistance which allows you to decouple the persistance from the domain models themselves. SQLAlchemy follows this with the unit-of-work pattern whereby instead of the common pattern mentioned in (1) where we pull out a record, do something and then put it back, SQLAlchemy is much more concerned about managing _units of work_ rather than managing individual records so you roll together some amount of actions into a unit of work and then commit them all as one unit.\n",
    "\n",
    "For more see: \n",
    "\n",
    "https://tekshinobi.com/sql-alchemy-tutorial/#:~:text=Level%204%3A%20Object%20Relational%20Mapping\n",
    "\n",
    "https://docs.sqlalchemy.org/en/14/orm/quickstart.html"
   ]
  },
  {
   "cell_type": "code",
   "execution_count": 3,
   "metadata": {},
   "outputs": [],
   "source": [
    "from sa2_swing.config import SQLALCHEMY_URI\n",
    "\n",
    "from sqlalchemy import create_engine\n",
    "\n",
    "engine = create_engine(SQLALCHEMY_URI, echo=True)"
   ]
  },
  {
   "cell_type": "markdown",
   "metadata": {},
   "source": [
    "## Create some tables"
   ]
  },
  {
   "cell_type": "code",
   "execution_count": 4,
   "metadata": {},
   "outputs": [
    {
     "name": "stdout",
     "output_type": "stream",
     "text": [
      "2022-04-22 17:44:59,691 INFO sqlalchemy.engine.Engine select pg_catalog.version()\n",
      "2022-04-22 17:44:59,692 INFO sqlalchemy.engine.Engine [raw sql] {}\n",
      "2022-04-22 17:44:59,695 INFO sqlalchemy.engine.Engine select current_schema()\n",
      "2022-04-22 17:44:59,696 INFO sqlalchemy.engine.Engine [raw sql] {}\n",
      "2022-04-22 17:44:59,700 INFO sqlalchemy.engine.Engine show standard_conforming_strings\n",
      "2022-04-22 17:44:59,701 INFO sqlalchemy.engine.Engine [raw sql] {}\n",
      "2022-04-22 17:44:59,705 INFO sqlalchemy.engine.Engine BEGIN (implicit)\n",
      "2022-04-22 17:44:59,707 INFO sqlalchemy.engine.Engine select relname from pg_class c join pg_namespace n on n.oid=c.relnamespace where pg_catalog.pg_table_is_visible(c.oid) and relname=%(name)s\n",
      "2022-04-22 17:44:59,709 INFO sqlalchemy.engine.Engine [generated in 0.00129s] {'name': 'user'}\n",
      "2022-04-22 17:44:59,713 INFO sqlalchemy.engine.Engine \n",
      "CREATE TABLE \"user\" (\n",
      "\tid SERIAL NOT NULL, \n",
      "\tfirst_name VARCHAR(30), \n",
      "\tlast_name VARCHAR(100), \n",
      "\tPRIMARY KEY (id)\n",
      ")\n",
      "\n",
      "\n",
      "2022-04-22 17:44:59,714 INFO sqlalchemy.engine.Engine [no key 0.00117s] {}\n",
      "2022-04-22 17:44:59,722 INFO sqlalchemy.engine.Engine COMMIT\n"
     ]
    }
   ],
   "source": [
    "# CREATE TABLES WITH CORE\n",
    "from sqlalchemy import Column, Integer, String, Table\n",
    "from sqlalchemy.orm import declarative_base \n",
    "\n",
    "Base = declarative_base()\n",
    "\n",
    "class User(Base):\n",
    "    __tablename__ = \"user\"\n",
    "\n",
    "    id = Column(Integer, primary_key=True, autoincrement=True)\n",
    "    first_name = Column(String(30))\n",
    "    last_name= Column(String(100))\n",
    "\n",
    "    def __repr__(self):\n",
    "        return f\"User({self.first_name=} {self.last_name=}\"\n",
    "\n",
    "Base.metadata.create_all(engine)\n"
   ]
  },
  {
   "cell_type": "markdown",
   "metadata": {},
   "source": [
    "## Insert some data"
   ]
  },
  {
   "cell_type": "code",
   "execution_count": 5,
   "metadata": {},
   "outputs": [
    {
     "name": "stdout",
     "output_type": "stream",
     "text": [
      "2022-04-22 17:45:01,381 INFO sqlalchemy.engine.Engine BEGIN (implicit)\n",
      "2022-04-22 17:45:01,388 INFO sqlalchemy.engine.Engine TRUNCATE TABLE \"user\"\n",
      "2022-04-22 17:45:01,393 INFO sqlalchemy.engine.Engine [generated in 0.00422s] {}\n",
      "2022-04-22 17:45:01,401 INFO sqlalchemy.engine.Engine INSERT INTO \"user\" (first_name, last_name) VALUES (%(first_name)s, %(last_name)s) RETURNING \"user\".id\n",
      "2022-04-22 17:45:01,403 INFO sqlalchemy.engine.Engine [generated in 0.00148s] {'first_name': 'Collin', 'last_name': 'Choy'}\n",
      "2022-04-22 17:45:01,405 INFO sqlalchemy.engine.Engine COMMIT\n",
      "2022-04-22 17:45:01,410 INFO sqlalchemy.engine.Engine BEGIN (implicit)\n",
      "2022-04-22 17:45:01,413 INFO sqlalchemy.engine.Engine INSERT INTO \"user\" (first_name, last_name) VALUES (%(first_name)s, %(last_name)s) RETURNING \"user\".id\n",
      "2022-04-22 17:45:01,414 INFO sqlalchemy.engine.Engine [generated in 0.00121s] ({'first_name': 'Jeff', 'last_name': 'Bridges'}, {'first_name': 'Tim', 'last_name': 'None'})\n",
      "2022-04-22 17:45:01,418 INFO sqlalchemy.engine.Engine COMMIT\n"
     ]
    }
   ],
   "source": [
    "from sqlalchemy import text\n",
    "from sqlalchemy.orm import sessionmaker\n",
    "\n",
    "Session = sessionmaker(engine)\n",
    "\n",
    "with Session() as session:\n",
    "\tsession.execute(text('TRUNCATE TABLE \"user\"'))\n",
    "\n",
    "\tcollin = User(first_name=\"Collin\", last_name=\"Choy\")\n",
    "\tsession.add(collin)\n",
    "\tsession.commit()\n",
    "\n",
    "\tsession.add_all([User(first_name=\"Jeff\", last_name=\"Bridges\"), User(first_name=\"Tim\", last_name=\"None\")])\n",
    "\tsession.commit()\n"
   ]
  },
  {
   "cell_type": "code",
   "execution_count": 6,
   "metadata": {},
   "outputs": [
    {
     "data": {
      "text/plain": [
       "IdentitySet([])"
      ]
     },
     "execution_count": 6,
     "metadata": {},
     "output_type": "execute_result"
    }
   ],
   "source": [
    "session.new"
   ]
  },
  {
   "cell_type": "markdown",
   "metadata": {},
   "source": [
    "## Query some data"
   ]
  },
  {
   "cell_type": "code",
   "execution_count": 7,
   "metadata": {},
   "outputs": [
    {
     "name": "stdout",
     "output_type": "stream",
     "text": [
      "2022-04-22 17:45:03,489 INFO sqlalchemy.engine.Engine BEGIN (implicit)\n",
      "2022-04-22 17:45:03,498 INFO sqlalchemy.engine.Engine SELECT \"user\".id, \"user\".first_name, \"user\".last_name \n",
      "FROM \"user\"\n",
      "2022-04-22 17:45:03,503 INFO sqlalchemy.engine.Engine [generated in 0.00464s] {}\n",
      "2022-04-22 17:45:03,506 INFO sqlalchemy.engine.Engine ROLLBACK\n",
      "2022-04-22 17:45:03,508 INFO sqlalchemy.engine.Engine BEGIN (implicit)\n",
      "2022-04-22 17:45:03,510 INFO sqlalchemy.engine.Engine SELECT \"user\".id, \"user\".first_name, \"user\".last_name \n",
      "FROM \"user\"\n",
      "2022-04-22 17:45:03,511 INFO sqlalchemy.engine.Engine [cached since 0.01339s ago] {}\n",
      "2022-04-22 17:45:03,514 INFO sqlalchemy.engine.Engine ROLLBACK\n"
     ]
    },
    {
     "data": {
      "text/plain": [
       "[User(self.first_name='Collin' self.last_name='Choy',\n",
       " User(self.first_name='Jeff' self.last_name='Bridges',\n",
       " User(self.first_name='Tim' self.last_name='None']"
      ]
     },
     "execution_count": 7,
     "metadata": {},
     "output_type": "execute_result"
    }
   ],
   "source": [
    "from sqlalchemy import select\n",
    "\n",
    "def select_all_users():\n",
    "\twith Session() as session:\n",
    "\t\tresult = session.execute(select(User)).all()\n",
    "\treturn result\n",
    "\n",
    "select_all_users()\n",
    "\n",
    "\n",
    "def select_all_users():\n",
    "\twith Session() as session:\n",
    "\t\tresult = session.execute(select(User)).scalars().all()\n",
    "\treturn result\n",
    "\n",
    "select_all_users()"
   ]
  },
  {
   "cell_type": "code",
   "execution_count": 8,
   "metadata": {},
   "outputs": [
    {
     "name": "stdout",
     "output_type": "stream",
     "text": [
      "2022-04-22 17:45:04,376 INFO sqlalchemy.engine.Engine BEGIN (implicit)\n",
      "2022-04-22 17:45:04,386 INFO sqlalchemy.engine.Engine SELECT \"user\".first_name, \"user\".id \n",
      "FROM \"user\" \n",
      "WHERE \"user\".first_name > %(first_name_1)s AND \"user\".first_name < %(first_name_2)s\n",
      "2022-04-22 17:45:04,389 INFO sqlalchemy.engine.Engine [generated in 0.00307s] {'first_name_1': 'A', 'first_name_2': 'M'}\n",
      "2022-04-22 17:45:04,392 INFO sqlalchemy.engine.Engine ROLLBACK\n"
     ]
    },
    {
     "data": {
      "text/plain": [
       "[('Collin', 1), ('Jeff', 2)]"
      ]
     },
     "execution_count": 8,
     "metadata": {},
     "output_type": "execute_result"
    }
   ],
   "source": [
    "stmt = select(User.first_name, User.id).where((User.first_name > \"A\") & (User.first_name < \"M\"))\n",
    "\n",
    "with Session() as session:\n",
    "\tresult = session.execute(stmt).all()\n",
    "result"
   ]
  },
  {
   "cell_type": "code",
   "execution_count": 9,
   "metadata": {},
   "outputs": [
    {
     "name": "stdout",
     "output_type": "stream",
     "text": [
      "2022-04-22 17:45:05,190 INFO sqlalchemy.engine.Engine BEGIN (implicit)\n",
      "2022-04-22 17:45:05,195 INFO sqlalchemy.engine.Engine SELECT \"user\".id, \"user\".first_name, \"user\".last_name \n",
      "FROM \"user\" \n",
      "WHERE \"user\".first_name = %(first_name_1)s\n",
      "2022-04-22 17:45:05,200 INFO sqlalchemy.engine.Engine [generated in 0.00506s] {'first_name_1': 'Jeff'}\n",
      "2022-04-22 17:45:05,208 INFO sqlalchemy.engine.Engine ROLLBACK\n"
     ]
    },
    {
     "data": {
      "text/plain": [
       "User(self.first_name='Jeff' self.last_name='Bridges'"
      ]
     },
     "execution_count": 9,
     "metadata": {},
     "output_type": "execute_result"
    }
   ],
   "source": [
    "with Session() as session:\n",
    "\tJeff = session.execute(\n",
    "\t\tselect(User).filter_by(first_name=\"Jeff\")\n",
    "\t).scalar()\n",
    "Jeff"
   ]
  },
  {
   "cell_type": "markdown",
   "metadata": {},
   "source": [
    "## Update some data"
   ]
  },
  {
   "cell_type": "code",
   "execution_count": 10,
   "metadata": {},
   "outputs": [
    {
     "name": "stdout",
     "output_type": "stream",
     "text": [
      "2022-04-22 17:45:06,473 INFO sqlalchemy.engine.Engine BEGIN (implicit)\n",
      "2022-04-22 17:45:06,484 INFO sqlalchemy.engine.Engine UPDATE \"user\" SET last_name=%(last_name)s WHERE \"user\".first_name = %(first_name_1)s\n",
      "2022-04-22 17:45:06,488 INFO sqlalchemy.engine.Engine [generated in 0.00428s] {'last_name': 'Goldblum', 'first_name_1': 'Jeff'}\n",
      "2022-04-22 17:45:06,490 INFO sqlalchemy.engine.Engine COMMIT\n",
      "2022-04-22 17:45:06,494 INFO sqlalchemy.engine.Engine BEGIN (implicit)\n",
      "2022-04-22 17:45:06,497 INFO sqlalchemy.engine.Engine SELECT \"user\".id, \"user\".first_name, \"user\".last_name \n",
      "FROM \"user\"\n",
      "2022-04-22 17:45:06,498 INFO sqlalchemy.engine.Engine [cached since 3.001s ago] {}\n",
      "2022-04-22 17:45:06,502 INFO sqlalchemy.engine.Engine ROLLBACK\n"
     ]
    },
    {
     "data": {
      "text/plain": [
       "[User(self.first_name='Collin' self.last_name='Choy',\n",
       " User(self.first_name='Tim' self.last_name='None',\n",
       " User(self.first_name='Jeff' self.last_name='Goldblum']"
      ]
     },
     "execution_count": 10,
     "metadata": {},
     "output_type": "execute_result"
    }
   ],
   "source": [
    "from sqlalchemy import update\n",
    "\n",
    "stmt = update(User).where(User.first_name == 'Jeff').values(last_name='Goldblum')\n",
    "with Session() as session:\n",
    "\tsession.execute(stmt)\n",
    "\tsession.commit()\n",
    "\n",
    "select_all_users()\n"
   ]
  },
  {
   "cell_type": "code",
   "execution_count": 11,
   "metadata": {},
   "outputs": [
    {
     "data": {
      "text/plain": [
       "('Jeff', 2)"
      ]
     },
     "execution_count": 11,
     "metadata": {},
     "output_type": "execute_result"
    }
   ],
   "source": [
    "result[1]"
   ]
  },
  {
   "cell_type": "markdown",
   "metadata": {},
   "source": [
    "## Delete some data"
   ]
  },
  {
   "cell_type": "code",
   "execution_count": null,
   "metadata": {},
   "outputs": [],
   "source": []
  },
  {
   "cell_type": "markdown",
   "metadata": {},
   "source": [
    "## Cleanup: Drop tables"
   ]
  },
  {
   "cell_type": "code",
   "execution_count": 13,
   "metadata": {},
   "outputs": [
    {
     "name": "stdout",
     "output_type": "stream",
     "text": [
      "2022-04-22 17:46:17,486 INFO sqlalchemy.engine.Engine BEGIN (implicit)\n",
      "2022-04-22 17:46:17,492 INFO sqlalchemy.engine.Engine select relname from pg_class c join pg_namespace n on n.oid=c.relnamespace where pg_catalog.pg_table_is_visible(c.oid) and relname=%(name)s\n",
      "2022-04-22 17:46:17,495 INFO sqlalchemy.engine.Engine [cached since 77.86s ago] {'name': 'user'}\n",
      "2022-04-22 17:46:17,497 INFO sqlalchemy.engine.Engine \n",
      "DROP TABLE \"user\"\n",
      "2022-04-22 17:46:17,499 INFO sqlalchemy.engine.Engine [no key 0.00132s] {}\n",
      "2022-04-22 17:46:17,510 INFO sqlalchemy.engine.Engine COMMIT\n"
     ]
    }
   ],
   "source": [
    "Base.metadata.drop_all(engine)"
   ]
  },
  {
   "cell_type": "code",
   "execution_count": null,
   "metadata": {},
   "outputs": [],
   "source": []
  }
 ],
 "metadata": {
  "interpreter": {
   "hash": "b788e793b78899db959d856033b1abc5ad30cba9f71b1dd95b8f11ded2f03ede"
  },
  "kernelspec": {
   "display_name": "Python 3.7.8 64-bit ('venv': venv)",
   "language": "python",
   "name": "python3"
  },
  "language_info": {
   "codemirror_mode": {
    "name": "ipython",
    "version": 3
   },
   "file_extension": ".py",
   "mimetype": "text/x-python",
   "name": "python",
   "nbconvert_exporter": "python",
   "pygments_lexer": "ipython3",
   "version": "3.10.4"
  },
  "orig_nbformat": 4
 },
 "nbformat": 4,
 "nbformat_minor": 2
}
