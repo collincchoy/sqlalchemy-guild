{
 "cells": [
  {
   "cell_type": "markdown",
   "metadata": {},
   "source": [
    "## The Python DB API\n",
    "\n",
    "A standard api to encourage consistency across python modules that are used to access databases.\n",
    "\n",
    "[PEP-249](https://peps.python.org/pep-0249/)"
   ]
  },
  {
   "cell_type": "markdown",
   "metadata": {},
   "source": [
    "## Psycopg2\n",
    "\n",
    "[What is it?](https://www.psycopg.org/docs/#:~:text=Psycopg%20is%20the%20most%20popular%20PostgreSQL%20database%20adapter%20for%20the%20Python%20programming%20language.%20Its%20main%20features%20are%20the%20complete%20implementation%20of%20the%20Python%20DB%20API%202.0%20specification%20and%20the%20thread%20safety%20(several%20threads%20can%20share%20the%20same%20connection))\n",
    "\n",
    "[What does it look like?](https://www.psycopg.org/docs/usage.html)"
   ]
  },
  {
   "cell_type": "markdown",
   "metadata": {},
   "source": [
    "# Intro SQLAlchemy\n",
    "\n",
    "> SQLAlchemy is an open-source **SQL toolkit** ***and*** **object-relational mapper** for the Python programming...\n",
    "> \n",
    "\n",
    "[https://docs.sqlalchemy.org/en/14/](https://docs.sqlalchemy.org/en/14/)\n",
    "\n",
    "Onion + layers\n",
    "\n",
    "[https://tekshinobi.com/sql-alchemy-tutorial/](https://tekshinobi.com/sql-alchemy-tutorial/)"
   ]
  },
  {
   "cell_type": "markdown",
   "metadata": {},
   "source": []
  }
 ],
 "metadata": {
  "language_info": {
   "name": "python"
  },
  "orig_nbformat": 4
 },
 "nbformat": 4,
 "nbformat_minor": 2
}
