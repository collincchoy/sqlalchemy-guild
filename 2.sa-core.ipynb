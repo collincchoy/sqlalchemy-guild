{
 "cells": [
  {
   "cell_type": "markdown",
   "metadata": {},
   "source": [
    "# SQLAlchemy w/ Core API\n",
    "\n",
    "The **core** of SQLAlchemy is a set of DB-agnostic, Python constructs that compile and translate to textual SQL. These constructs makeup the __core__ of the SQLAlchemy toolkit and is designed to mimic a lot of the SQL language itself but in Python.\n",
    "\n",
    "For more see: https://docs.sqlalchemy.org/en/14/core/tutorial.html"
   ]
  },
  {
   "cell_type": "code",
   "execution_count": 1,
   "metadata": {},
   "outputs": [],
   "source": [
    "from sa2_swing.config import SQLALCHEMY_URI\n",
    "\n",
    "from sqlalchemy import create_engine\n",
    "\n",
    "engine = create_engine(SQLALCHEMY_URI, echo=True)"
   ]
  },
  {
   "cell_type": "markdown",
   "metadata": {},
   "source": [
    "## Create some tables"
   ]
  },
  {
   "cell_type": "code",
   "execution_count": 2,
   "metadata": {},
   "outputs": [
    {
     "name": "stdout",
     "output_type": "stream",
     "text": [
      "2022-04-22 17:44:32,288 INFO sqlalchemy.engine.Engine select pg_catalog.version()\n",
      "2022-04-22 17:44:32,338 INFO sqlalchemy.engine.Engine [raw sql] {}\n",
      "2022-04-22 17:44:32,342 INFO sqlalchemy.engine.Engine select current_schema()\n",
      "2022-04-22 17:44:32,343 INFO sqlalchemy.engine.Engine [raw sql] {}\n",
      "2022-04-22 17:44:32,345 INFO sqlalchemy.engine.Engine show standard_conforming_strings\n",
      "2022-04-22 17:44:32,346 INFO sqlalchemy.engine.Engine [raw sql] {}\n",
      "2022-04-22 17:44:32,350 INFO sqlalchemy.engine.Engine BEGIN (implicit)\n",
      "2022-04-22 17:44:32,352 INFO sqlalchemy.engine.Engine select relname from pg_class c join pg_namespace n on n.oid=c.relnamespace where pg_catalog.pg_table_is_visible(c.oid) and relname=%(name)s\n",
      "2022-04-22 17:44:32,353 INFO sqlalchemy.engine.Engine [generated in 0.00146s] {'name': 'user'}\n",
      "2022-04-22 17:44:32,357 INFO sqlalchemy.engine.Engine \n",
      "CREATE TABLE \"user\" (\n",
      "\tid SERIAL NOT NULL, \n",
      "\tfirst_name VARCHAR(30) NOT NULL, \n",
      "\tlast_name VARCHAR(100), \n",
      "\tPRIMARY KEY (id)\n",
      ")\n",
      "\n",
      "\n",
      "2022-04-22 17:44:32,359 INFO sqlalchemy.engine.Engine [no key 0.00134s] {}\n",
      "2022-04-22 17:44:32,394 INFO sqlalchemy.engine.Engine COMMIT\n"
     ]
    }
   ],
   "source": [
    "from sqlalchemy import MetaData, Column, Integer, String, Table\n",
    "\n",
    "metadata = MetaData()\n",
    "\n",
    "user_table = Table(\n",
    "    \"user\",\n",
    "    metadata,\n",
    "    Column('id', Integer, primary_key=True, autoincrement=True),\n",
    "    Column('first_name', String(30), nullable=False),\n",
    "    Column('last_name', String(100))\n",
    ")\n",
    "\n",
    "metadata.create_all(engine)\n"
   ]
  },
  {
   "cell_type": "markdown",
   "metadata": {},
   "source": [
    "## Insert some data"
   ]
  },
  {
   "cell_type": "code",
   "execution_count": 3,
   "metadata": {},
   "outputs": [
    {
     "name": "stdout",
     "output_type": "stream",
     "text": [
      "2022-04-22 17:44:32,950 INFO sqlalchemy.engine.Engine TRUNCATE TABLE \"user\"\n",
      "2022-04-22 17:44:32,952 INFO sqlalchemy.engine.Engine [generated in 0.00238s] {}\n",
      "2022-04-22 17:44:32,958 INFO sqlalchemy.engine.Engine COMMIT\n",
      "2022-04-22 17:44:32,962 INFO sqlalchemy.engine.Engine INSERT INTO \"user\" (first_name, last_name) VALUES (%(first_name)s, %(last_name)s) RETURNING \"user\".id\n",
      "2022-04-22 17:44:32,963 INFO sqlalchemy.engine.Engine [generated in 0.00113s] {'first_name': 'Collin', 'last_name': 'Choy'}\n",
      "2022-04-22 17:44:32,967 INFO sqlalchemy.engine.Engine COMMIT\n"
     ]
    }
   ],
   "source": [
    "from sqlalchemy import insert, text\n",
    "with engine.connect() as conn:\n",
    "\tconn.execute(text('TRUNCATE TABLE \"user\"'))\n",
    "\n",
    "\tstmt = insert(user_table).values({\"first_name\": \"Collin\", \"last_name\": \"Choy\"})\n",
    "\tconn.execute(stmt)"
   ]
  },
  {
   "cell_type": "code",
   "execution_count": 4,
   "metadata": {},
   "outputs": [
    {
     "name": "stdout",
     "output_type": "stream",
     "text": [
      "2022-04-22 17:44:33,789 INFO sqlalchemy.engine.Engine INSERT INTO \"user\" (first_name, last_name) VALUES (%(first_name_m0)s, %(last_name_m0)s), (%(first_name_m1)s, %(last_name_m1)s)\n",
      "2022-04-22 17:44:33,793 INFO sqlalchemy.engine.Engine [no key 0.00381s] {'first_name_m0': 'Jeff', 'last_name_m0': 'Bridges', 'first_name_m1': 'Tim', 'last_name_m1': None}\n",
      "2022-04-22 17:44:33,799 INFO sqlalchemy.engine.Engine COMMIT\n"
     ]
    }
   ],
   "source": [
    "with engine.connect() as conn:\n",
    "\tstmt = insert(user_table).values([{\"first_name\": \"Jeff\", \"last_name\": \"Bridges\"}, {\"first_name\": \"Tim\", \"last_name\": None}])\n",
    "\tconn.execute(stmt)"
   ]
  },
  {
   "cell_type": "markdown",
   "metadata": {},
   "source": [
    "## Query some data"
   ]
  },
  {
   "cell_type": "code",
   "execution_count": 5,
   "metadata": {},
   "outputs": [
    {
     "name": "stdout",
     "output_type": "stream",
     "text": [
      "2022-04-22 17:44:35,075 INFO sqlalchemy.engine.Engine SELECT \"user\".id, \"user\".first_name, \"user\".last_name \n",
      "FROM \"user\"\n",
      "2022-04-22 17:44:35,080 INFO sqlalchemy.engine.Engine [generated in 0.00472s] {}\n"
     ]
    },
    {
     "data": {
      "text/plain": [
       "[(1, 'Collin', 'Choy'), (2, 'Jeff', 'Bridges'), (3, 'Tim', None)]"
      ]
     },
     "execution_count": 5,
     "metadata": {},
     "output_type": "execute_result"
    }
   ],
   "source": [
    "from sqlalchemy import select\n",
    "\n",
    "def select_all_users():\n",
    "\tstatement = select(user_table)\n",
    "\twith engine.connect() as conn:\n",
    "\t\tresult = conn.execute(statement)\n",
    "\treturn result.fetchall()\n",
    "\n",
    "select_all_users()"
   ]
  },
  {
   "cell_type": "code",
   "execution_count": 6,
   "metadata": {},
   "outputs": [
    {
     "name": "stdout",
     "output_type": "stream",
     "text": [
      "2022-04-22 17:44:35,565 INFO sqlalchemy.engine.Engine SELECT \"user\".first_name \n",
      "FROM \"user\" \n",
      "WHERE \"user\".first_name > %(first_name_1)s AND \"user\".first_name < %(first_name_2)s\n",
      "2022-04-22 17:44:35,573 INFO sqlalchemy.engine.Engine [generated in 0.00806s] {'first_name_1': 'A', 'first_name_2': 'M'}\n"
     ]
    },
    {
     "data": {
      "text/plain": [
       "[('Collin',), ('Jeff',)]"
      ]
     },
     "execution_count": 6,
     "metadata": {},
     "output_type": "execute_result"
    }
   ],
   "source": [
    "stmt = select(user_table.c.first_name).where((user_table.c.first_name > \"A\") & (user_table.c.first_name < \"M\"))\n",
    "\n",
    "with engine.connect() as conn:\n",
    "\tresult = conn.execute(stmt).all()\n",
    "result"
   ]
  },
  {
   "cell_type": "code",
   "execution_count": 7,
   "metadata": {},
   "outputs": [
    {
     "name": "stdout",
     "output_type": "stream",
     "text": [
      "2022-04-22 17:44:36,168 INFO sqlalchemy.engine.Engine SELECT \"user\".first_name \n",
      "FROM \"user\" \n",
      "WHERE \"user\".first_name BETWEEN %(first_name_1)s AND %(first_name_2)s\n",
      "2022-04-22 17:44:36,172 INFO sqlalchemy.engine.Engine [generated in 0.00400s] {'first_name_1': 'A', 'first_name_2': 'M'}\n"
     ]
    },
    {
     "data": {
      "text/plain": [
       "[('Collin',), ('Jeff',)]"
      ]
     },
     "execution_count": 7,
     "metadata": {},
     "output_type": "execute_result"
    }
   ],
   "source": [
    "from sqlalchemy import between\n",
    "\n",
    "stmt = select(user_table.c.first_name).where(between(user_table.c.first_name, \"A\", \"M\"))\n",
    "with engine.connect() as conn:\n",
    "\tresult = conn.execute(stmt).fetchall()\n",
    "result"
   ]
  },
  {
   "cell_type": "markdown",
   "metadata": {},
   "source": [
    "## Update some data"
   ]
  },
  {
   "cell_type": "code",
   "execution_count": 8,
   "metadata": {},
   "outputs": [
    {
     "name": "stdout",
     "output_type": "stream",
     "text": [
      "2022-04-22 17:44:37,315 INFO sqlalchemy.engine.Engine UPDATE \"user\" SET last_name=%(last_name)s WHERE \"user\".first_name = %(first_name_1)s\n",
      "2022-04-22 17:44:37,317 INFO sqlalchemy.engine.Engine [generated in 0.00268s] {'last_name': 'Goldblum', 'first_name_1': 'Jeff'}\n",
      "2022-04-22 17:44:37,325 INFO sqlalchemy.engine.Engine COMMIT\n",
      "2022-04-22 17:44:37,328 INFO sqlalchemy.engine.Engine SELECT \"user\".id, \"user\".first_name, \"user\".last_name \n",
      "FROM \"user\"\n",
      "2022-04-22 17:44:37,329 INFO sqlalchemy.engine.Engine [cached since 2.254s ago] {}\n"
     ]
    },
    {
     "data": {
      "text/plain": [
       "[(1, 'Collin', 'Choy'), (3, 'Tim', None), (2, 'Jeff', 'Goldblum')]"
      ]
     },
     "execution_count": 8,
     "metadata": {},
     "output_type": "execute_result"
    }
   ],
   "source": [
    "from sqlalchemy import update\n",
    "\n",
    "stmt = update(user_table).where(user_table.c.first_name == 'Jeff').values(last_name='Goldblum')\n",
    "with engine.connect() as conn:\n",
    "\tconn.execute(stmt)\n",
    "\n",
    "select_all_users()\n"
   ]
  },
  {
   "cell_type": "markdown",
   "metadata": {},
   "source": [
    "## Delete some data"
   ]
  },
  {
   "cell_type": "code",
   "execution_count": 9,
   "metadata": {},
   "outputs": [
    {
     "name": "stdout",
     "output_type": "stream",
     "text": [
      "2022-04-22 17:44:38,478 INFO sqlalchemy.engine.Engine DELETE FROM \"user\" WHERE \"user\".first_name = %(first_name_1)s\n",
      "2022-04-22 17:44:38,480 INFO sqlalchemy.engine.Engine [generated in 0.00199s] {'first_name_1': 'Tim'}\n",
      "2022-04-22 17:44:38,482 INFO sqlalchemy.engine.Engine COMMIT\n",
      "2022-04-22 17:44:38,485 INFO sqlalchemy.engine.Engine SELECT \"user\".id, \"user\".first_name, \"user\".last_name \n",
      "FROM \"user\"\n",
      "2022-04-22 17:44:38,486 INFO sqlalchemy.engine.Engine [cached since 3.411s ago] {}\n"
     ]
    },
    {
     "data": {
      "text/plain": [
       "[(1, 'Collin', 'Choy'), (2, 'Jeff', 'Goldblum')]"
      ]
     },
     "execution_count": 9,
     "metadata": {},
     "output_type": "execute_result"
    }
   ],
   "source": [
    "from sqlalchemy import delete\n",
    "\n",
    "stmt = delete(user_table).where(user_table.c.first_name == \"Tim\")\n",
    "\n",
    "with engine.connect() as conn:\n",
    "\tconn.execute(stmt)\n",
    "\n",
    "select_all_users()"
   ]
  },
  {
   "cell_type": "markdown",
   "metadata": {},
   "source": [
    "## Cleanup: Drop tables"
   ]
  },
  {
   "cell_type": "code",
   "execution_count": 10,
   "metadata": {},
   "outputs": [
    {
     "name": "stdout",
     "output_type": "stream",
     "text": [
      "2022-04-22 17:44:39,849 INFO sqlalchemy.engine.Engine BEGIN (implicit)\n",
      "2022-04-22 17:44:39,852 INFO sqlalchemy.engine.Engine select relname from pg_class c join pg_namespace n on n.oid=c.relnamespace where pg_catalog.pg_table_is_visible(c.oid) and relname=%(name)s\n",
      "2022-04-22 17:44:39,854 INFO sqlalchemy.engine.Engine [cached since 7.503s ago] {'name': 'user'}\n",
      "2022-04-22 17:44:39,860 INFO sqlalchemy.engine.Engine \n",
      "DROP TABLE \"user\"\n",
      "2022-04-22 17:44:39,863 INFO sqlalchemy.engine.Engine [no key 0.00354s] {}\n",
      "2022-04-22 17:44:39,868 INFO sqlalchemy.engine.Engine COMMIT\n"
     ]
    }
   ],
   "source": [
    "metadata.drop_all(engine)"
   ]
  },
  {
   "cell_type": "code",
   "execution_count": null,
   "metadata": {},
   "outputs": [],
   "source": []
  }
 ],
 "metadata": {
  "interpreter": {
   "hash": "b788e793b78899db959d856033b1abc5ad30cba9f71b1dd95b8f11ded2f03ede"
  },
  "kernelspec": {
   "display_name": "Python 3.7.8 64-bit ('venv': venv)",
   "language": "python",
   "name": "python3"
  },
  "language_info": {
   "codemirror_mode": {
    "name": "ipython",
    "version": 3
   },
   "file_extension": ".py",
   "mimetype": "text/x-python",
   "name": "python",
   "nbconvert_exporter": "python",
   "pygments_lexer": "ipython3",
   "version": "3.10.2"
  },
  "orig_nbformat": 4
 },
 "nbformat": 4,
 "nbformat_minor": 2
}
